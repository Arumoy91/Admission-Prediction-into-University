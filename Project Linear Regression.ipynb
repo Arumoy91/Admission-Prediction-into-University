{
 "cells": [
  {
   "cell_type": "code",
   "execution_count": 1,
   "id": "7a5172bf",
   "metadata": {},
   "outputs": [],
   "source": [
    "import pandas as pd\n",
    "import numpy as np\n",
    "import seaborn as sns\n",
    "import matplotlib.pyplot as plt"
   ]
  },
  {
   "cell_type": "code",
   "execution_count": 2,
   "id": "3db7a094",
   "metadata": {},
   "outputs": [
    {
     "data": {
      "text/html": [
       "<div>\n",
       "<style scoped>\n",
       "    .dataframe tbody tr th:only-of-type {\n",
       "        vertical-align: middle;\n",
       "    }\n",
       "\n",
       "    .dataframe tbody tr th {\n",
       "        vertical-align: top;\n",
       "    }\n",
       "\n",
       "    .dataframe thead th {\n",
       "        text-align: right;\n",
       "    }\n",
       "</style>\n",
       "<table border=\"1\" class=\"dataframe\">\n",
       "  <thead>\n",
       "    <tr style=\"text-align: right;\">\n",
       "      <th></th>\n",
       "      <th>Serial No.</th>\n",
       "      <th>GRE Score</th>\n",
       "      <th>TOEFL Score</th>\n",
       "      <th>University Rating</th>\n",
       "      <th>SOP</th>\n",
       "      <th>LOR</th>\n",
       "      <th>CGPA</th>\n",
       "      <th>Research</th>\n",
       "      <th>Chance of Admit</th>\n",
       "    </tr>\n",
       "  </thead>\n",
       "  <tbody>\n",
       "    <tr>\n",
       "      <th>0</th>\n",
       "      <td>1</td>\n",
       "      <td>337.0</td>\n",
       "      <td>118.0</td>\n",
       "      <td>4.0</td>\n",
       "      <td>4.5</td>\n",
       "      <td>4.5</td>\n",
       "      <td>9.65</td>\n",
       "      <td>1</td>\n",
       "      <td>0.92</td>\n",
       "    </tr>\n",
       "    <tr>\n",
       "      <th>1</th>\n",
       "      <td>2</td>\n",
       "      <td>324.0</td>\n",
       "      <td>107.0</td>\n",
       "      <td>4.0</td>\n",
       "      <td>4.0</td>\n",
       "      <td>4.5</td>\n",
       "      <td>8.87</td>\n",
       "      <td>1</td>\n",
       "      <td>0.76</td>\n",
       "    </tr>\n",
       "    <tr>\n",
       "      <th>2</th>\n",
       "      <td>3</td>\n",
       "      <td>NaN</td>\n",
       "      <td>104.0</td>\n",
       "      <td>3.0</td>\n",
       "      <td>3.0</td>\n",
       "      <td>3.5</td>\n",
       "      <td>8.00</td>\n",
       "      <td>1</td>\n",
       "      <td>0.72</td>\n",
       "    </tr>\n",
       "    <tr>\n",
       "      <th>3</th>\n",
       "      <td>4</td>\n",
       "      <td>322.0</td>\n",
       "      <td>110.0</td>\n",
       "      <td>3.0</td>\n",
       "      <td>3.5</td>\n",
       "      <td>2.5</td>\n",
       "      <td>8.67</td>\n",
       "      <td>1</td>\n",
       "      <td>0.80</td>\n",
       "    </tr>\n",
       "    <tr>\n",
       "      <th>4</th>\n",
       "      <td>5</td>\n",
       "      <td>314.0</td>\n",
       "      <td>103.0</td>\n",
       "      <td>2.0</td>\n",
       "      <td>2.0</td>\n",
       "      <td>3.0</td>\n",
       "      <td>8.21</td>\n",
       "      <td>0</td>\n",
       "      <td>0.65</td>\n",
       "    </tr>\n",
       "    <tr>\n",
       "      <th>...</th>\n",
       "      <td>...</td>\n",
       "      <td>...</td>\n",
       "      <td>...</td>\n",
       "      <td>...</td>\n",
       "      <td>...</td>\n",
       "      <td>...</td>\n",
       "      <td>...</td>\n",
       "      <td>...</td>\n",
       "      <td>...</td>\n",
       "    </tr>\n",
       "    <tr>\n",
       "      <th>495</th>\n",
       "      <td>496</td>\n",
       "      <td>332.0</td>\n",
       "      <td>108.0</td>\n",
       "      <td>5.0</td>\n",
       "      <td>4.5</td>\n",
       "      <td>4.0</td>\n",
       "      <td>9.02</td>\n",
       "      <td>1</td>\n",
       "      <td>0.87</td>\n",
       "    </tr>\n",
       "    <tr>\n",
       "      <th>496</th>\n",
       "      <td>497</td>\n",
       "      <td>337.0</td>\n",
       "      <td>117.0</td>\n",
       "      <td>5.0</td>\n",
       "      <td>5.0</td>\n",
       "      <td>5.0</td>\n",
       "      <td>9.87</td>\n",
       "      <td>1</td>\n",
       "      <td>0.96</td>\n",
       "    </tr>\n",
       "    <tr>\n",
       "      <th>497</th>\n",
       "      <td>498</td>\n",
       "      <td>330.0</td>\n",
       "      <td>120.0</td>\n",
       "      <td>5.0</td>\n",
       "      <td>4.5</td>\n",
       "      <td>5.0</td>\n",
       "      <td>9.56</td>\n",
       "      <td>1</td>\n",
       "      <td>0.93</td>\n",
       "    </tr>\n",
       "    <tr>\n",
       "      <th>498</th>\n",
       "      <td>499</td>\n",
       "      <td>312.0</td>\n",
       "      <td>103.0</td>\n",
       "      <td>4.0</td>\n",
       "      <td>4.0</td>\n",
       "      <td>5.0</td>\n",
       "      <td>8.43</td>\n",
       "      <td>0</td>\n",
       "      <td>0.73</td>\n",
       "    </tr>\n",
       "    <tr>\n",
       "      <th>499</th>\n",
       "      <td>500</td>\n",
       "      <td>327.0</td>\n",
       "      <td>113.0</td>\n",
       "      <td>4.0</td>\n",
       "      <td>4.5</td>\n",
       "      <td>4.5</td>\n",
       "      <td>9.04</td>\n",
       "      <td>0</td>\n",
       "      <td>0.84</td>\n",
       "    </tr>\n",
       "  </tbody>\n",
       "</table>\n",
       "<p>500 rows × 9 columns</p>\n",
       "</div>"
      ],
      "text/plain": [
       "     Serial No.  GRE Score  TOEFL Score  University Rating  SOP  LOR  CGPA  \\\n",
       "0             1      337.0        118.0                4.0  4.5  4.5  9.65   \n",
       "1             2      324.0        107.0                4.0  4.0  4.5  8.87   \n",
       "2             3        NaN        104.0                3.0  3.0  3.5  8.00   \n",
       "3             4      322.0        110.0                3.0  3.5  2.5  8.67   \n",
       "4             5      314.0        103.0                2.0  2.0  3.0  8.21   \n",
       "..          ...        ...          ...                ...  ...  ...   ...   \n",
       "495         496      332.0        108.0                5.0  4.5  4.0  9.02   \n",
       "496         497      337.0        117.0                5.0  5.0  5.0  9.87   \n",
       "497         498      330.0        120.0                5.0  4.5  5.0  9.56   \n",
       "498         499      312.0        103.0                4.0  4.0  5.0  8.43   \n",
       "499         500      327.0        113.0                4.0  4.5  4.5  9.04   \n",
       "\n",
       "     Research  Chance of Admit  \n",
       "0           1             0.92  \n",
       "1           1             0.76  \n",
       "2           1             0.72  \n",
       "3           1             0.80  \n",
       "4           0             0.65  \n",
       "..        ...              ...  \n",
       "495         1             0.87  \n",
       "496         1             0.96  \n",
       "497         1             0.93  \n",
       "498         0             0.73  \n",
       "499         0             0.84  \n",
       "\n",
       "[500 rows x 9 columns]"
      ]
     },
     "execution_count": 2,
     "metadata": {},
     "output_type": "execute_result"
    }
   ],
   "source": [
    "df = pd.read_csv('Admission_Prediction.csv')\n",
    "df"
   ]
  },
  {
   "cell_type": "code",
   "execution_count": 3,
   "id": "42b4cbae",
   "metadata": {},
   "outputs": [
    {
     "data": {
      "text/html": [
       "<div>\n",
       "<style scoped>\n",
       "    .dataframe tbody tr th:only-of-type {\n",
       "        vertical-align: middle;\n",
       "    }\n",
       "\n",
       "    .dataframe tbody tr th {\n",
       "        vertical-align: top;\n",
       "    }\n",
       "\n",
       "    .dataframe thead th {\n",
       "        text-align: right;\n",
       "    }\n",
       "</style>\n",
       "<table border=\"1\" class=\"dataframe\">\n",
       "  <thead>\n",
       "    <tr style=\"text-align: right;\">\n",
       "      <th></th>\n",
       "      <th>Serial No.</th>\n",
       "      <th>GRE Score</th>\n",
       "      <th>TOEFL Score</th>\n",
       "      <th>University Rating</th>\n",
       "      <th>SOP</th>\n",
       "      <th>LOR</th>\n",
       "      <th>CGPA</th>\n",
       "      <th>Research</th>\n",
       "      <th>Chance of Admit</th>\n",
       "    </tr>\n",
       "  </thead>\n",
       "  <tbody>\n",
       "    <tr>\n",
       "      <th>0</th>\n",
       "      <td>1</td>\n",
       "      <td>337.0</td>\n",
       "      <td>118.0</td>\n",
       "      <td>4.0</td>\n",
       "      <td>4.5</td>\n",
       "      <td>4.5</td>\n",
       "      <td>9.65</td>\n",
       "      <td>1</td>\n",
       "      <td>0.92</td>\n",
       "    </tr>\n",
       "    <tr>\n",
       "      <th>1</th>\n",
       "      <td>2</td>\n",
       "      <td>324.0</td>\n",
       "      <td>107.0</td>\n",
       "      <td>4.0</td>\n",
       "      <td>4.0</td>\n",
       "      <td>4.5</td>\n",
       "      <td>8.87</td>\n",
       "      <td>1</td>\n",
       "      <td>0.76</td>\n",
       "    </tr>\n",
       "    <tr>\n",
       "      <th>2</th>\n",
       "      <td>3</td>\n",
       "      <td>NaN</td>\n",
       "      <td>104.0</td>\n",
       "      <td>3.0</td>\n",
       "      <td>3.0</td>\n",
       "      <td>3.5</td>\n",
       "      <td>8.00</td>\n",
       "      <td>1</td>\n",
       "      <td>0.72</td>\n",
       "    </tr>\n",
       "    <tr>\n",
       "      <th>3</th>\n",
       "      <td>4</td>\n",
       "      <td>322.0</td>\n",
       "      <td>110.0</td>\n",
       "      <td>3.0</td>\n",
       "      <td>3.5</td>\n",
       "      <td>2.5</td>\n",
       "      <td>8.67</td>\n",
       "      <td>1</td>\n",
       "      <td>0.80</td>\n",
       "    </tr>\n",
       "    <tr>\n",
       "      <th>4</th>\n",
       "      <td>5</td>\n",
       "      <td>314.0</td>\n",
       "      <td>103.0</td>\n",
       "      <td>2.0</td>\n",
       "      <td>2.0</td>\n",
       "      <td>3.0</td>\n",
       "      <td>8.21</td>\n",
       "      <td>0</td>\n",
       "      <td>0.65</td>\n",
       "    </tr>\n",
       "  </tbody>\n",
       "</table>\n",
       "</div>"
      ],
      "text/plain": [
       "   Serial No.  GRE Score  TOEFL Score  University Rating  SOP  LOR  CGPA  \\\n",
       "0           1      337.0        118.0                4.0  4.5  4.5  9.65   \n",
       "1           2      324.0        107.0                4.0  4.0  4.5  8.87   \n",
       "2           3        NaN        104.0                3.0  3.0  3.5  8.00   \n",
       "3           4      322.0        110.0                3.0  3.5  2.5  8.67   \n",
       "4           5      314.0        103.0                2.0  2.0  3.0  8.21   \n",
       "\n",
       "   Research  Chance of Admit  \n",
       "0         1             0.92  \n",
       "1         1             0.76  \n",
       "2         1             0.72  \n",
       "3         1             0.80  \n",
       "4         0             0.65  "
      ]
     },
     "execution_count": 3,
     "metadata": {},
     "output_type": "execute_result"
    }
   ],
   "source": [
    "df.head()"
   ]
  },
  {
   "cell_type": "code",
   "execution_count": 4,
   "id": "f0bafddd",
   "metadata": {},
   "outputs": [
    {
     "data": {
      "text/plain": [
       "Serial No.             int64\n",
       "GRE Score            float64\n",
       "TOEFL Score          float64\n",
       "University Rating    float64\n",
       "SOP                  float64\n",
       "LOR                  float64\n",
       "CGPA                 float64\n",
       "Research               int64\n",
       "Chance of Admit      float64\n",
       "dtype: object"
      ]
     },
     "execution_count": 4,
     "metadata": {},
     "output_type": "execute_result"
    }
   ],
   "source": [
    "df.dtypes"
   ]
  },
  {
   "cell_type": "code",
   "execution_count": 5,
   "id": "f7f45fca",
   "metadata": {},
   "outputs": [],
   "source": [
    "from sklearn.linear_model import LinearRegression,Ridge,RidgeCV,ElasticNet,ElasticNetCV,Lasso,LassoCV"
   ]
  },
  {
   "cell_type": "code",
   "execution_count": 6,
   "id": "eea146d5",
   "metadata": {},
   "outputs": [],
   "source": [
    "df.drop(columns=['Serial No.'],inplace=True)"
   ]
  },
  {
   "cell_type": "code",
   "execution_count": 7,
   "id": "83889fd6",
   "metadata": {},
   "outputs": [],
   "source": [
    "from sklearn.preprocessing import LabelEncoder\n",
    "le = LabelEncoder()"
   ]
  },
  {
   "cell_type": "code",
   "execution_count": 8,
   "id": "7a309ef1",
   "metadata": {},
   "outputs": [],
   "source": [
    "df['GRE Score'] =le.fit_transform(df['GRE Score'])\n",
    "df['TOEFL Score'] =le.fit_transform(df['TOEFL Score'])\n",
    "df['University Rating'] =le.fit_transform(df['University Rating'])"
   ]
  },
  {
   "cell_type": "code",
   "execution_count": 9,
   "id": "9ab97892",
   "metadata": {},
   "outputs": [
    {
     "data": {
      "text/plain": [
       "(500, 8)"
      ]
     },
     "execution_count": 9,
     "metadata": {},
     "output_type": "execute_result"
    }
   ],
   "source": [
    "df.shape"
   ]
  },
  {
   "cell_type": "code",
   "execution_count": 10,
   "id": "78c1a4e8",
   "metadata": {},
   "outputs": [
    {
     "data": {
      "text/plain": [
       "GRE Score            0\n",
       "TOEFL Score          0\n",
       "University Rating    0\n",
       "SOP                  0\n",
       "LOR                  0\n",
       "CGPA                 0\n",
       "Research             0\n",
       "Chance of Admit      0\n",
       "dtype: int64"
      ]
     },
     "execution_count": 10,
     "metadata": {},
     "output_type": "execute_result"
    }
   ],
   "source": [
    "df.isnull().sum()"
   ]
  },
  {
   "cell_type": "code",
   "execution_count": 11,
   "id": "ef7978a3",
   "metadata": {},
   "outputs": [],
   "source": [
    "X=df.drop(['Chance of Admit'], axis=1)\n",
    "y=df['Chance of Admit']"
   ]
  },
  {
   "cell_type": "code",
   "execution_count": 12,
   "id": "368baf20",
   "metadata": {},
   "outputs": [],
   "source": [
    "from sklearn.model_selection import train_test_split\n",
    "X_train, X_test, y_train, y_test = train_test_split(X,y,test_size = 0.30, random_state = 42)"
   ]
  },
  {
   "cell_type": "code",
   "execution_count": 13,
   "id": "aafabe67",
   "metadata": {},
   "outputs": [],
   "source": [
    "lr = LinearRegression()"
   ]
  },
  {
   "cell_type": "code",
   "execution_count": 14,
   "id": "1d74c440",
   "metadata": {},
   "outputs": [
    {
     "data": {
      "text/plain": [
       "LinearRegression()"
      ]
     },
     "execution_count": 14,
     "metadata": {},
     "output_type": "execute_result"
    }
   ],
   "source": [
    "lr.fit(X_train,y_train)"
   ]
  },
  {
   "cell_type": "code",
   "execution_count": 15,
   "id": "52ba1fda",
   "metadata": {},
   "outputs": [
    {
     "data": {
      "text/plain": [
       "array([0.91589462, 0.8053396 , 0.55857811, 0.74719106, 0.81781667,\n",
       "       0.85781524, 0.49166938, 0.70935258, 0.83145831, 0.80841409,\n",
       "       0.71334306, 0.73041612, 0.6414152 , 0.92360151, 0.82934807,\n",
       "       0.51791402, 0.82537646, 0.60336387, 0.54393378, 0.57543592,\n",
       "       0.66371722, 0.55677105, 0.72321429, 0.78343807, 0.77571008,\n",
       "       0.61845154, 0.95355824, 0.84209465, 0.62275706, 0.74922094,\n",
       "       0.56199222, 0.73430738, 0.55015005, 0.86487906, 0.67232117,\n",
       "       0.73420753, 0.55819503, 0.96834873, 0.65223304, 0.7129267 ,\n",
       "       0.95642627, 0.57626183, 0.74841088, 0.85470014, 0.93155595,\n",
       "       0.5878851 , 0.9547599 , 0.83159317, 0.84009579, 0.92845884,\n",
       "       0.89433666, 0.60989517, 0.71467287, 0.51294122, 0.94801259,\n",
       "       0.57373348, 0.95451609, 0.74264186, 0.67940854, 0.50673553,\n",
       "       0.64727007, 0.68113055, 0.60362143, 0.59532999, 0.43983593,\n",
       "       0.58484393, 0.8694265 , 0.8939744 , 0.65734591, 0.70354984,\n",
       "       0.61987462, 0.77886291, 0.67910176, 0.55724761, 0.55912512,\n",
       "       0.65500702, 0.83736825, 0.8639911 , 0.53356055, 0.62332442,\n",
       "       0.75903235, 0.85349071, 0.62332954, 0.88969831, 0.71758457,\n",
       "       0.65037176, 0.61627617, 0.7307193 , 0.79924759, 0.66496347,\n",
       "       0.73869883, 0.91330747, 0.89958019, 0.64683736, 0.7797243 ,\n",
       "       0.43317825, 0.68178367, 0.7727738 , 0.75053492, 0.64690148,\n",
       "       0.79282487, 0.73979316, 0.65490562, 0.66475718, 0.66048408,\n",
       "       0.52516486, 0.72431925, 0.80899482, 0.63750447, 0.6942269 ,\n",
       "       0.63749977, 0.95121154, 0.84354471, 0.96306327, 0.47159951,\n",
       "       0.82755907, 0.67001289, 0.88081059, 0.51248213, 0.6954736 ,\n",
       "       0.71510924, 0.88754195, 0.72069169, 0.73310043, 0.68757814,\n",
       "       0.69734944, 0.55526846, 0.99659492, 0.85415956, 0.52201361,\n",
       "       0.69987331, 0.71692117, 0.85177219, 0.52474404, 0.82323349,\n",
       "       0.59626999, 0.82877751, 0.96687465, 0.65252565, 0.68049523,\n",
       "       0.7947712 , 0.62538593, 0.81492849, 0.52615929, 0.94431477,\n",
       "       0.65780955, 0.97380254, 0.77679664, 0.63266869, 0.71386834])"
      ]
     },
     "execution_count": 15,
     "metadata": {},
     "output_type": "execute_result"
    }
   ],
   "source": [
    "lr.predict(X_test)"
   ]
  },
  {
   "cell_type": "code",
   "execution_count": 16,
   "id": "69e6b96e",
   "metadata": {},
   "outputs": [
    {
     "data": {
      "text/plain": [
       "array([0.00106632, 0.00405121, 0.00340388, 0.00184074, 0.01255936,\n",
       "       0.12803799, 0.02745271])"
      ]
     },
     "execution_count": 16,
     "metadata": {},
     "output_type": "execute_result"
    }
   ],
   "source": [
    "lr.coef_"
   ]
  },
  {
   "cell_type": "code",
   "execution_count": 17,
   "id": "b989f89d",
   "metadata": {},
   "outputs": [
    {
     "data": {
      "text/plain": [
       "-0.5365873765978244"
      ]
     },
     "execution_count": 17,
     "metadata": {},
     "output_type": "execute_result"
    }
   ],
   "source": [
    "lr.intercept_"
   ]
  },
  {
   "cell_type": "code",
   "execution_count": 18,
   "id": "6677bf8d",
   "metadata": {},
   "outputs": [
    {
     "data": {
      "text/plain": [
       "0.8205760685115967"
      ]
     },
     "execution_count": 18,
     "metadata": {},
     "output_type": "execute_result"
    }
   ],
   "source": [
    "lr.score(X_test,y_test)"
   ]
  },
  {
   "cell_type": "code",
   "execution_count": 19,
   "id": "99dafabc",
   "metadata": {},
   "outputs": [],
   "source": [
    "las = LassoCV(alphas=None,cv=100,max_iter=1000,normalize=True)"
   ]
  },
  {
   "cell_type": "code",
   "execution_count": 20,
   "id": "494e152a",
   "metadata": {},
   "outputs": [
    {
     "data": {
      "text/plain": [
       "LassoCV(cv=100, normalize=True)"
      ]
     },
     "execution_count": 20,
     "metadata": {},
     "output_type": "execute_result"
    }
   ],
   "source": [
    "las.fit(X_train,y_train)"
   ]
  },
  {
   "cell_type": "code",
   "execution_count": 21,
   "id": "aa8ba6fa",
   "metadata": {},
   "outputs": [
    {
     "data": {
      "text/plain": [
       "6.546733501959499e-06"
      ]
     },
     "execution_count": 21,
     "metadata": {},
     "output_type": "execute_result"
    }
   ],
   "source": [
    "las.alpha_"
   ]
  },
  {
   "cell_type": "code",
   "execution_count": 22,
   "id": "b75e132c",
   "metadata": {},
   "outputs": [
    {
     "data": {
      "text/plain": [
       "0.8205798679011874"
      ]
     },
     "execution_count": 22,
     "metadata": {},
     "output_type": "execute_result"
    }
   ],
   "source": [
    "las.score(X_test,y_test)"
   ]
  },
  {
   "cell_type": "code",
   "execution_count": 23,
   "id": "d5c478d9",
   "metadata": {},
   "outputs": [],
   "source": [
    "els = ElasticNetCV(alphas=None,cv=10)"
   ]
  },
  {
   "cell_type": "code",
   "execution_count": 24,
   "id": "db273f04",
   "metadata": {},
   "outputs": [
    {
     "data": {
      "text/plain": [
       "ElasticNetCV(cv=10)"
      ]
     },
     "execution_count": 24,
     "metadata": {},
     "output_type": "execute_result"
    }
   ],
   "source": [
    "els.fit(X_train,y_train)"
   ]
  },
  {
   "cell_type": "code",
   "execution_count": 25,
   "id": "9de1a98a",
   "metadata": {},
   "outputs": [
    {
     "data": {
      "text/plain": [
       "0.0024101311020408166"
      ]
     },
     "execution_count": 25,
     "metadata": {},
     "output_type": "execute_result"
    }
   ],
   "source": [
    "els.alpha_"
   ]
  },
  {
   "cell_type": "code",
   "execution_count": 26,
   "id": "61af122d",
   "metadata": {},
   "outputs": [
    {
     "data": {
      "text/plain": [
       "array([0.91289393, 0.79776401, 0.56888155, 0.7577424 , 0.81528575,\n",
       "       0.85458082, 0.49269878, 0.72091696, 0.82302719, 0.80539301,\n",
       "       0.71853886, 0.73191614, 0.64476684, 0.92347292, 0.8235676 ,\n",
       "       0.51679901, 0.82436891, 0.59554106, 0.54443805, 0.57204177,\n",
       "       0.66063352, 0.55756726, 0.71629458, 0.78281982, 0.77669517,\n",
       "       0.6126814 , 0.95068713, 0.83935538, 0.62729126, 0.74465382,\n",
       "       0.56418553, 0.73672718, 0.55563687, 0.85997551, 0.68245192,\n",
       "       0.73266795, 0.55656588, 0.96793136, 0.64752826, 0.71054626,\n",
       "       0.95250363, 0.57108851, 0.75083302, 0.85271681, 0.92927737,\n",
       "       0.58572807, 0.95250923, 0.82969652, 0.84471805, 0.9242546 ,\n",
       "       0.88629763, 0.6251635 , 0.71218381, 0.51597523, 0.94674095,\n",
       "       0.58509195, 0.95051171, 0.7450871 , 0.67526358, 0.50282014,\n",
       "       0.63697696, 0.67519415, 0.60375978, 0.6003484 , 0.44091995,\n",
       "       0.59398872, 0.86494368, 0.89085794, 0.65796177, 0.70486265,\n",
       "       0.61457532, 0.7784931 , 0.67959016, 0.56498604, 0.5574184 ,\n",
       "       0.65722265, 0.84057611, 0.86270573, 0.53907128, 0.62079291,\n",
       "       0.76183775, 0.84722561, 0.62729784, 0.88851997, 0.71738421,\n",
       "       0.65451579, 0.6166073 , 0.73299073, 0.79057087, 0.6636523 ,\n",
       "       0.73462725, 0.90833062, 0.90097073, 0.65036122, 0.77769618,\n",
       "       0.43649219, 0.68580693, 0.77597197, 0.74963576, 0.65107161,\n",
       "       0.79029279, 0.74443656, 0.65192661, 0.66899195, 0.65831882,\n",
       "       0.53732812, 0.72572591, 0.80568229, 0.63657298, 0.69408323,\n",
       "       0.63486612, 0.94953672, 0.83980708, 0.96331248, 0.47810014,\n",
       "       0.82051463, 0.66994277, 0.87913294, 0.51679822, 0.6917422 ,\n",
       "       0.7134324 , 0.88806253, 0.71867538, 0.7354169 , 0.68794117,\n",
       "       0.70010924, 0.56594178, 0.99156589, 0.84844296, 0.52057991,\n",
       "       0.70212669, 0.72230813, 0.84450876, 0.52364286, 0.82002984,\n",
       "       0.60872788, 0.82750621, 0.96317119, 0.65653493, 0.67859722,\n",
       "       0.79899594, 0.62776794, 0.81275678, 0.53005213, 0.93989166,\n",
       "       0.65869751, 0.97324425, 0.78283537, 0.63766746, 0.71413523])"
      ]
     },
     "execution_count": 26,
     "metadata": {},
     "output_type": "execute_result"
    }
   ],
   "source": [
    "els.predict(X_test)"
   ]
  },
  {
   "cell_type": "code",
   "execution_count": 27,
   "id": "764fd93b",
   "metadata": {},
   "outputs": [
    {
     "data": {
      "text/plain": [
       "0.5"
      ]
     },
     "execution_count": 27,
     "metadata": {},
     "output_type": "execute_result"
    }
   ],
   "source": [
    "els.l1_ratio"
   ]
  },
  {
   "cell_type": "code",
   "execution_count": 28,
   "id": "fbec12c6",
   "metadata": {},
   "outputs": [
    {
     "data": {
      "text/plain": [
       "0.8170050201414701"
      ]
     },
     "execution_count": 28,
     "metadata": {},
     "output_type": "execute_result"
    }
   ],
   "source": [
    "els.score(X_test,y_test)"
   ]
  },
  {
   "cell_type": "code",
   "execution_count": 29,
   "id": "7af3f9a0",
   "metadata": {},
   "outputs": [],
   "source": [
    "ridge=RidgeCV(alphas=np.random.uniform(0,10,50),cv=10,normalize=True)"
   ]
  },
  {
   "cell_type": "code",
   "execution_count": 30,
   "id": "6448dd9a",
   "metadata": {},
   "outputs": [
    {
     "data": {
      "text/plain": [
       "RidgeCV(alphas=array([0.64879012, 5.33593681, 6.88098872, 9.29346347, 4.23086878,\n",
       "       9.43194036, 8.0550689 , 2.35033056, 9.19018996, 6.90292287,\n",
       "       4.35916978, 9.68734292, 1.72213636, 9.36282022, 5.58589723,\n",
       "       5.39844408, 8.25412912, 4.65418654, 5.66064575, 3.63463932,\n",
       "       6.62290694, 1.82070504, 5.91349173, 3.13499767, 5.00980332,\n",
       "       2.08879708, 8.73579162, 3.55934475, 3.27491066, 4.84923317,\n",
       "       7.64623064, 4.3652301 , 7.84919234, 7.57230765, 9.403673  ,\n",
       "       0.23680307, 0.19883973, 4.52232702, 1.76716011, 9.02745612,\n",
       "       7.05329239, 4.33009656, 6.16956204, 5.81844327, 7.70491327,\n",
       "       8.14249146, 0.75553144, 0.78600655, 1.81544223, 6.50582093]),\n",
       "        cv=10, normalize=True)"
      ]
     },
     "execution_count": 30,
     "metadata": {},
     "output_type": "execute_result"
    }
   ],
   "source": [
    "ridge.fit(X_train,y_train)"
   ]
  },
  {
   "cell_type": "code",
   "execution_count": 31,
   "id": "033c239e",
   "metadata": {},
   "outputs": [
    {
     "data": {
      "text/plain": [
       "0.8133294773639459"
      ]
     },
     "execution_count": 31,
     "metadata": {},
     "output_type": "execute_result"
    }
   ],
   "source": [
    "ridge.score(X_test,y_test)"
   ]
  },
  {
   "cell_type": "code",
   "execution_count": 32,
   "id": "e3a9f10f",
   "metadata": {},
   "outputs": [
    {
     "data": {
      "text/plain": [
       "array([0.00173056, 0.00414726, 0.00619386, 0.0100884 , 0.01470052,\n",
       "       0.08455861, 0.02834478])"
      ]
     },
     "execution_count": 32,
     "metadata": {},
     "output_type": "execute_result"
    }
   ],
   "source": [
    "ridge.coef_"
   ]
  },
  {
   "cell_type": "code",
   "execution_count": 33,
   "id": "95a638ef",
   "metadata": {},
   "outputs": [
    {
     "data": {
      "text/plain": [
       "0.19883972714855092"
      ]
     },
     "execution_count": 33,
     "metadata": {},
     "output_type": "execute_result"
    }
   ],
   "source": [
    "ridge.alpha_"
   ]
  },
  {
   "cell_type": "code",
   "execution_count": 34,
   "id": "9c731c14",
   "metadata": {},
   "outputs": [
    {
     "data": {
      "text/plain": [
       "-0.22393027160316126"
      ]
     },
     "execution_count": 34,
     "metadata": {},
     "output_type": "execute_result"
    }
   ],
   "source": [
    "ridge.intercept_"
   ]
  },
  {
   "cell_type": "code",
   "execution_count": 35,
   "id": "1eeb548a",
   "metadata": {},
   "outputs": [],
   "source": [
    "import pickle"
   ]
  },
  {
   "cell_type": "code",
   "execution_count": 36,
   "id": "4178d929",
   "metadata": {},
   "outputs": [
    {
     "data": {
      "text/plain": [
       "array([1.38209001])"
      ]
     },
     "execution_count": 36,
     "metadata": {},
     "output_type": "execute_result"
    }
   ],
   "source": [
    "lr.predict([[337.0,107.0,3.0,4.0,4.5,8.00,1]])"
   ]
  },
  {
   "cell_type": "code",
   "execution_count": 37,
   "id": "44ca9014",
   "metadata": {},
   "outputs": [
    {
     "data": {
      "text/plain": [
       "0      0.92\n",
       "1      0.76\n",
       "2      0.72\n",
       "3      0.80\n",
       "4      0.65\n",
       "       ... \n",
       "495    0.87\n",
       "496    0.96\n",
       "497    0.93\n",
       "498    0.73\n",
       "499    0.84\n",
       "Name: Chance of Admit, Length: 500, dtype: float64"
      ]
     },
     "execution_count": 37,
     "metadata": {},
     "output_type": "execute_result"
    }
   ],
   "source": [
    "y"
   ]
  },
  {
   "cell_type": "code",
   "execution_count": null,
   "id": "5c5aff30",
   "metadata": {},
   "outputs": [],
   "source": []
  },
  {
   "cell_type": "code",
   "execution_count": null,
   "id": "b477ee02",
   "metadata": {},
   "outputs": [],
   "source": []
  }
 ],
 "metadata": {
  "kernelspec": {
   "display_name": "Python 3",
   "language": "python",
   "name": "python3"
  },
  "language_info": {
   "codemirror_mode": {
    "name": "ipython",
    "version": 3
   },
   "file_extension": ".py",
   "mimetype": "text/x-python",
   "name": "python",
   "nbconvert_exporter": "python",
   "pygments_lexer": "ipython3",
   "version": "3.8.8"
  }
 },
 "nbformat": 4,
 "nbformat_minor": 5
}
